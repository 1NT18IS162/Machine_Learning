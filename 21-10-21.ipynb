{
 "cells": [
  {
   "cell_type": "markdown",
   "metadata": {},
   "source": [
    "# Add elements of list"
   ]
  },
  {
   "cell_type": "code",
   "execution_count": null,
   "metadata": {},
   "outputs": [],
   "source": [
    "l2=[1,2,3]\n",
    "l3=[3,4,5]\n",
    "l4=[]\n",
    "for i in range(0,len(l2)):\n",
    "    l4.append(l2[i]+l3[i])\n",
    "l4"
   ]
  },
  {
   "cell_type": "markdown",
   "metadata": {},
   "source": [
    "# Simple Calculator"
   ]
  },
  {
   "cell_type": "code",
   "execution_count": 19,
   "metadata": {},
   "outputs": [
    {
     "name": "stdout",
     "output_type": "stream",
     "text": [
      "Enter number 1213\n",
      "Enter operation23\n",
      "Enter number 223\n",
      "Invalid operation\n"
     ]
    }
   ],
   "source": [
    "a=float(input(\"Enter number 1\"))\n",
    "c=input(\"Enter operation\")\n",
    "b=float(input(\"Enter number 2\"))\n",
    "flag=1\n",
    "if c=='+':\n",
    "    res=a+b\n",
    "elif c=='-':\n",
    "    res=a-b\n",
    "elif c=='*':\n",
    "    res=a*b\n",
    "elif c=='/':\n",
    "    if(b==0):\n",
    "        print(\"Cannot divide by 0\")\n",
    "    else:\n",
    "        res=a/b\n",
    "elif c=='^':\n",
    "    res=a**b\n",
    "else:\n",
    "    print(\"Invalid operation\")\n",
    "    flag=0\n",
    "    \n",
    "if flag:\n",
    "    print(res)"
   ]
  },
  {
   "cell_type": "markdown",
   "metadata": {},
   "source": [
    "# Bubble Sort"
   ]
  },
  {
   "cell_type": "code",
   "execution_count": 25,
   "metadata": {},
   "outputs": [
    {
     "data": {
      "text/plain": [
       "[0, 1, 2, 2, 3, 4, 7, 10]"
      ]
     },
     "execution_count": 25,
     "metadata": {},
     "output_type": "execute_result"
    }
   ],
   "source": [
    "l=[4,3,10,2,7,2,1,0]\n",
    "\n",
    "for i in range(0,len(l)):\n",
    "    for j in range(i,len(l)):\n",
    "        if l[i]>l[j]:\n",
    "            l[i]=l[i]+l[j]\n",
    "            l[j]=l[i]-l[j]\n",
    "            l[i]=l[i]-l[j]\n",
    "l"
   ]
  },
  {
   "cell_type": "markdown",
   "metadata": {},
   "source": [
    "# Mean Median and Mode"
   ]
  },
  {
   "cell_type": "code",
   "execution_count": 56,
   "metadata": {},
   "outputs": [],
   "source": [
    "#Mean\n",
    "l1=[1,2,2,2,2,3,3,3,4,5,7,9,10,24,56,67,89]\n",
    "sum=0\n",
    "for i in l1:\n",
    "    sum=sum+i\n",
    "\n",
    "avg=sum/len(l1)"
   ]
  },
  {
   "cell_type": "code",
   "execution_count": 57,
   "metadata": {},
   "outputs": [
    {
     "data": {
      "text/plain": [
       "4.5"
      ]
     },
     "execution_count": 57,
     "metadata": {},
     "output_type": "execute_result"
    }
   ],
   "source": [
    "#Median\n",
    "i=int(len(l1)/2)\n",
    "\n",
    "if i%2==0:\n",
    "    res=(l1[i]+l1[i+1])/2\n",
    "else:\n",
    "    res=l[i]\n",
    "res"
   ]
  },
  {
   "cell_type": "code",
   "execution_count": 58,
   "metadata": {},
   "outputs": [
    {
     "name": "stdout",
     "output_type": "stream",
     "text": [
      "2\n"
     ]
    }
   ],
   "source": [
    "#Mode\n",
    "d={}\n",
    "for it in l1:\n",
    "    if it in d:\n",
    "        d[it]=d[it]+1\n",
    "    else:\n",
    "        d[it]=1\n",
    "\n",
    "maxi=0\n",
    "for it in d:\n",
    "    if(d[it]>maxi):\n",
    "        maxi=d[it]\n",
    "        ans=it\n",
    "        \n",
    "print(ans)"
   ]
  },
  {
   "cell_type": "markdown",
   "metadata": {},
   "source": [
    "# Standard Deviation"
   ]
  },
  {
   "cell_type": "code",
   "execution_count": 60,
   "metadata": {},
   "outputs": [],
   "source": [
    "temp=0\n",
    "for it in l1:\n",
    "    temp = temp+(it-avg)**2\n",
    "\n",
    "variance=temp/len(l1)\n",
    "sd=(variance)**(1/2)"
   ]
  },
  {
   "cell_type": "code",
   "execution_count": 62,
   "metadata": {},
   "outputs": [
    {
     "name": "stdout",
     "output_type": "stream",
     "text": [
      "677.8823529411765\n",
      "26.03617393053704\n"
     ]
    }
   ],
   "source": [
    "print(variance)\n",
    "print(sdstandard deviation)"
   ]
  },
  {
   "cell_type": "code",
   "execution_count": 64,
   "metadata": {},
   "outputs": [],
   "source": [
    "import numpy as np"
   ]
  },
  {
   "cell_type": "code",
   "execution_count": 65,
   "metadata": {},
   "outputs": [
    {
     "data": {
      "text/plain": [
       "26.03617393053704"
      ]
     },
     "execution_count": 65,
     "metadata": {},
     "output_type": "execute_result"
    }
   ],
   "source": [
    "np.std(l1)"
   ]
  },
  {
   "cell_type": "code",
   "execution_count": 66,
   "metadata": {},
   "outputs": [
    {
     "data": {
      "text/plain": [
       "677.8823529411765"
      ]
     },
     "execution_count": 66,
     "metadata": {},
     "output_type": "execute_result"
    }
   ],
   "source": [
    "np.var(l1)"
   ]
  },
  {
   "cell_type": "code",
   "execution_count": null,
   "metadata": {},
   "outputs": [],
   "source": []
  }
 ],
 "metadata": {
  "kernelspec": {
   "display_name": "Python 3",
   "language": "python",
   "name": "python3"
  },
  "language_info": {
   "codemirror_mode": {
    "name": "ipython",
    "version": 3
   },
   "file_extension": ".py",
   "mimetype": "text/x-python",
   "name": "python",
   "nbconvert_exporter": "python",
   "pygments_lexer": "ipython3",
   "version": "3.8.5"
  }
 },
 "nbformat": 4,
 "nbformat_minor": 4
}
