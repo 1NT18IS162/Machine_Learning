{
 "cells": [
  {
   "cell_type": "code",
   "execution_count": 1,
   "metadata": {},
   "outputs": [],
   "source": [
    "import pandas as pd\n",
    "import matplotlib.pyplot as plt\n",
    "import seaborn as sns\n"
   ]
  },
  {
   "cell_type": "code",
   "execution_count": 2,
   "metadata": {},
   "outputs": [],
   "source": [
    "data=pd.read_csv('Food-Truck-LineReg.csv',header=None)"
   ]
  },
  {
   "cell_type": "code",
   "execution_count": 3,
   "metadata": {},
   "outputs": [
    {
     "data": {
      "text/plain": [
       "Int64Index([0, 1], dtype='int64')"
      ]
     },
     "execution_count": 3,
     "metadata": {},
     "output_type": "execute_result"
    }
   ],
   "source": [
    "data.columns"
   ]
  },
  {
   "cell_type": "code",
   "execution_count": 4,
   "metadata": {},
   "outputs": [
    {
     "data": {
      "text/plain": [
       "<matplotlib.collections.PathCollection at 0x7fbccb085e20>"
      ]
     },
     "execution_count": 4,
     "metadata": {},
     "output_type": "execute_result"
    },
    {
     "data": {
      "image/png": "[encoded data removed]",
      "text/plain": [
       "<Figure size 432x288 with 1 Axes>"
      ]
     },
     "metadata": {
      "needs_background": "light"
     },
     "output_type": "display_data"
    }
   ],
   "source": [
    "x,y=data[0],data[1]\n",
    "plt.scatter(x,y,alpha=0.7)"
   ]
  },
  {
   "cell_type": "code",
   "execution_count": 5,
   "metadata": {},
   "outputs": [
    {
     "data": {
      "image/png": "[encoded data removed]",
      "text/plain": [
       "<Figure size 432x288 with 2 Axes>"
      ]
     },
     "metadata": {
      "needs_background": "light"
     },
     "output_type": "display_data"
    }
   ],
   "source": [
    "ax = sns.heatmap(data.corr(), annot=True)"
   ]
  },
  {
   "cell_type": "code",
   "execution_count": 6,
   "metadata": {},
   "outputs": [
    {
     "data": {
      "text/plain": [
       "0.837873232526341"
      ]
     },
     "execution_count": 6,
     "metadata": {},
     "output_type": "execute_result"
    }
   ],
   "source": [
    "data[1].corr(data[0])"
   ]
  },
  {
   "cell_type": "code",
   "execution_count": 7,
   "metadata": {},
   "outputs": [],
   "source": [
    "n=len(data)"
   ]
  },
  {
   "cell_type": "code",
   "execution_count": 8,
   "metadata": {},
   "outputs": [],
   "source": [
    "data.columns=[\"x\",\"y\"]"
   ]
  },
  {
   "cell_type": "code",
   "execution_count": 9,
   "metadata": {},
   "outputs": [
    {
     "data": {
      "text/plain": [
       "97"
      ]
     },
     "execution_count": 9,
     "metadata": {},
     "output_type": "execute_result"
    }
   ],
   "source": [
    "data[\"x\"].size"
   ]
  },
  {
   "cell_type": "code",
   "execution_count": 10,
   "metadata": {},
   "outputs": [],
   "source": [
    "xsq=[]\n",
    "ysq=[]\n",
    "xy=[]\n",
    "\n",
    "for i in range (len(data)):\n",
    "    xsq.append(round(data.x[i]**2,3))\n",
    "    ysq.append(round(data.y[i]**2,3))\n",
    "    xy.append(round(data.x[i]*data.y[i],3))\n",
    "\n",
    "data[\"x^2\"]=xsq\n",
    "data[\"y^2\"]=ysq\n",
    "data[\"xy\"]=xy"
   ]
  },
  {
   "cell_type": "code",
   "execution_count": 11,
   "metadata": {},
   "outputs": [
    {
     "data": {
      "text/html": [
       "<div>\n",
       "<style scoped>\n",
       "    .dataframe tbody tr th:only-of-type {\n",
       "        vertical-align: middle;\n",
       "    }\n",
       "\n",
       "    .dataframe tbody tr th {\n",
       "        vertical-align: top;\n",
       "    }\n",
       "\n",
       "    .dataframe thead th {\n",
       "        text-align: right;\n",
       "    }\n",
       "</style>\n",
       "<table border=\"1\" class=\"dataframe\">\n",
       "  <thead>\n",
       "    <tr style=\"text-align: right;\">\n",
       "      <th></th>\n",
       "      <th>x</th>\n",
       "      <th>y</th>\n",
       "      <th>x^2</th>\n",
       "      <th>y^2</th>\n",
       "      <th>xy</th>\n",
       "    </tr>\n",
       "  </thead>\n",
       "  <tbody>\n",
       "    <tr>\n",
       "      <th>0</th>\n",
       "      <td>6.1101</td>\n",
       "      <td>17.59200</td>\n",
       "      <td>37.333</td>\n",
       "      <td>309.478</td>\n",
       "      <td>107.489</td>\n",
       "    </tr>\n",
       "    <tr>\n",
       "      <th>1</th>\n",
       "      <td>5.5277</td>\n",
       "      <td>9.13020</td>\n",
       "      <td>30.555</td>\n",
       "      <td>83.361</td>\n",
       "      <td>50.469</td>\n",
       "    </tr>\n",
       "    <tr>\n",
       "      <th>2</th>\n",
       "      <td>8.5186</td>\n",
       "      <td>13.66200</td>\n",
       "      <td>72.567</td>\n",
       "      <td>186.650</td>\n",
       "      <td>116.381</td>\n",
       "    </tr>\n",
       "    <tr>\n",
       "      <th>3</th>\n",
       "      <td>7.0032</td>\n",
       "      <td>11.85400</td>\n",
       "      <td>49.045</td>\n",
       "      <td>140.517</td>\n",
       "      <td>83.016</td>\n",
       "    </tr>\n",
       "    <tr>\n",
       "      <th>4</th>\n",
       "      <td>5.8598</td>\n",
       "      <td>6.82330</td>\n",
       "      <td>34.337</td>\n",
       "      <td>46.557</td>\n",
       "      <td>39.983</td>\n",
       "    </tr>\n",
       "    <tr>\n",
       "      <th>...</th>\n",
       "      <td>...</td>\n",
       "      <td>...</td>\n",
       "      <td>...</td>\n",
       "      <td>...</td>\n",
       "      <td>...</td>\n",
       "    </tr>\n",
       "    <tr>\n",
       "      <th>92</th>\n",
       "      <td>5.8707</td>\n",
       "      <td>7.20290</td>\n",
       "      <td>34.465</td>\n",
       "      <td>51.882</td>\n",
       "      <td>42.286</td>\n",
       "    </tr>\n",
       "    <tr>\n",
       "      <th>93</th>\n",
       "      <td>5.3054</td>\n",
       "      <td>1.98690</td>\n",
       "      <td>28.147</td>\n",
       "      <td>3.948</td>\n",
       "      <td>10.541</td>\n",
       "    </tr>\n",
       "    <tr>\n",
       "      <th>94</th>\n",
       "      <td>8.2934</td>\n",
       "      <td>0.14454</td>\n",
       "      <td>68.780</td>\n",
       "      <td>0.021</td>\n",
       "      <td>1.199</td>\n",
       "    </tr>\n",
       "    <tr>\n",
       "      <th>95</th>\n",
       "      <td>13.3940</td>\n",
       "      <td>9.05510</td>\n",
       "      <td>179.399</td>\n",
       "      <td>81.995</td>\n",
       "      <td>121.284</td>\n",
       "    </tr>\n",
       "    <tr>\n",
       "      <th>96</th>\n",
       "      <td>5.4369</td>\n",
       "      <td>0.61705</td>\n",
       "      <td>29.560</td>\n",
       "      <td>0.381</td>\n",
       "      <td>3.355</td>\n",
       "    </tr>\n",
       "  </tbody>\n",
       "</table>\n",
       "<p>97 rows × 5 columns</p>\n",
       "</div>"
      ],
      "text/plain": [
       "          x         y      x^2      y^2       xy\n",
       "0    6.1101  17.59200   37.333  309.478  107.489\n",
       "1    5.5277   9.13020   30.555   83.361   50.469\n",
       "2    8.5186  13.66200   72.567  186.650  116.381\n",
       "3    7.0032  11.85400   49.045  140.517   83.016\n",
       "4    5.8598   6.82330   34.337   46.557   39.983\n",
       "..      ...       ...      ...      ...      ...\n",
       "92   5.8707   7.20290   34.465   51.882   42.286\n",
       "93   5.3054   1.98690   28.147    3.948   10.541\n",
       "94   8.2934   0.14454   68.780    0.021    1.199\n",
       "95  13.3940   9.05510  179.399   81.995  121.284\n",
       "96   5.4369   0.61705   29.560    0.381    3.355\n",
       "\n",
       "[97 rows x 5 columns]"
      ]
     },
     "execution_count": 11,
     "metadata": {},
     "output_type": "execute_result"
    }
   ],
   "source": [
    "data"
   ]
  },
  {
   "cell_type": "code",
   "execution_count": 12,
   "metadata": {},
   "outputs": [],
   "source": [
    "def avg(ls):\n",
    "    sum=0\n",
    "    for it in ls:\n",
    "        sum=sum+it\n",
    "    return sum/len(ls)"
   ]
  },
  {
   "cell_type": "code",
   "execution_count": 13,
   "metadata": {},
   "outputs": [],
   "source": [
    "def sd(xcol):\n",
    "    temp=0\n",
    "    for it in xcol:\n",
    "        temp = temp+(it-avg(xcol))**2\n",
    "\n",
    "    variance=temp/len(xcol)\n",
    "    sd=(variance)**(1/2)\n",
    "    return sd"
   ]
  },
  {
   "cell_type": "code",
   "execution_count": 14,
   "metadata": {},
   "outputs": [],
   "source": [
    "sdx=sd(data['x'])"
   ]
  },
  {
   "cell_type": "code",
   "execution_count": 15,
   "metadata": {},
   "outputs": [],
   "source": [
    "sdy=sd(data['y'])"
   ]
  },
  {
   "cell_type": "code",
   "execution_count": 16,
   "metadata": {},
   "outputs": [
    {
     "name": "stdout",
     "output_type": "stream",
     "text": [
      "3.8498839959227156\n",
      "5.48178525707763\n"
     ]
    }
   ],
   "source": [
    "print(sdx)\n",
    "print(sdy)"
   ]
  },
  {
   "cell_type": "code",
   "execution_count": 17,
   "metadata": {},
   "outputs": [],
   "source": [
    "def summation(summ):\n",
    "    return avg(summ)*len(data)"
   ]
  },
  {
   "cell_type": "code",
   "execution_count": 18,
   "metadata": {},
   "outputs": [],
   "source": [
    "xy=summation(data['xy'])"
   ]
  },
  {
   "cell_type": "code",
   "execution_count": 19,
   "metadata": {},
   "outputs": [],
   "source": [
    "xsquare=summation(data['x^2'])\n",
    "ysquare=summation(data['y^2'])"
   ]
  },
  {
   "cell_type": "code",
   "execution_count": 20,
   "metadata": {},
   "outputs": [],
   "source": [
    "#Coefficient of regression \n",
    "r=xy/(xsquare*ysquare)"
   ]
  },
  {
   "cell_type": "code",
   "execution_count": 21,
   "metadata": {},
   "outputs": [
    {
     "data": {
      "text/plain": [
       "0.0001289796980410205"
      ]
     },
     "execution_count": 21,
     "metadata": {},
     "output_type": "execute_result"
    }
   ],
   "source": [
    "r"
   ]
  },
  {
   "cell_type": "code",
   "execution_count": 22,
   "metadata": {},
   "outputs": [],
   "source": [
    "#slope\n",
    "m= r * sdy /sdx"
   ]
  },
  {
   "cell_type": "code",
   "execution_count": 23,
   "metadata": {},
   "outputs": [
    {
     "data": {
      "text/plain": [
       "0.00018365202897863733"
      ]
     },
     "execution_count": 23,
     "metadata": {},
     "output_type": "execute_result"
    }
   ],
   "source": [
    "m"
   ]
  },
  {
   "cell_type": "code",
   "execution_count": 24,
   "metadata": {},
   "outputs": [],
   "source": [
    "#y=mx+c\n",
    "#c=y-mx\n",
    "\n",
    "c= avg(data['y'])-m*avg(data['x'])"
   ]
  },
  {
   "cell_type": "code",
   "execution_count": 25,
   "metadata": {},
   "outputs": [
    {
     "data": {
      "text/plain": [
       "5.83763648772033"
      ]
     },
     "execution_count": 25,
     "metadata": {},
     "output_type": "execute_result"
    }
   ],
   "source": [
    "c"
   ]
  },
  {
   "cell_type": "code",
   "execution_count": 26,
   "metadata": {},
   "outputs": [],
   "source": [
    "#y=mx+c\n",
    "y_pred=m*data['x']+c"
   ]
  },
  {
   "cell_type": "code",
   "execution_count": 27,
   "metadata": {},
   "outputs": [
    {
     "data": {
      "text/plain": [
       "0     5.838759\n",
       "1     5.838652\n",
       "2     5.839201\n",
       "3     5.838923\n",
       "4     5.838713\n",
       "        ...   \n",
       "92    5.838715\n",
       "93    5.838611\n",
       "94    5.839160\n",
       "95    5.840096\n",
       "96    5.838635\n",
       "Name: x, Length: 97, dtype: float64"
      ]
     },
     "execution_count": 27,
     "metadata": {},
     "output_type": "execute_result"
    }
   ],
   "source": [
    "y_pred"
   ]
  },
  {
   "cell_type": "code",
   "execution_count": 28,
   "metadata": {},
   "outputs": [],
   "source": [
    "data['y_pred']=y_pred"
   ]
  },
  {
   "cell_type": "code",
   "execution_count": 29,
   "metadata": {},
   "outputs": [
    {
     "data": {
      "text/html": [
       "<div>\n",
       "<style scoped>\n",
       "    .dataframe tbody tr th:only-of-type {\n",
       "        vertical-align: middle;\n",
       "    }\n",
       "\n",
       "    .dataframe tbody tr th {\n",
       "        vertical-align: top;\n",
       "    }\n",
       "\n",
       "    .dataframe thead th {\n",
       "        text-align: right;\n",
       "    }\n",
       "</style>\n",
       "<table border=\"1\" class=\"dataframe\">\n",
       "  <thead>\n",
       "    <tr style=\"text-align: right;\">\n",
       "      <th></th>\n",
       "      <th>x</th>\n",
       "      <th>y</th>\n",
       "      <th>x^2</th>\n",
       "      <th>y^2</th>\n",
       "      <th>xy</th>\n",
       "      <th>y_pred</th>\n",
       "    </tr>\n",
       "  </thead>\n",
       "  <tbody>\n",
       "    <tr>\n",
       "      <th>0</th>\n",
       "      <td>6.1101</td>\n",
       "      <td>17.59200</td>\n",
       "      <td>37.333</td>\n",
       "      <td>309.478</td>\n",
       "      <td>107.489</td>\n",
       "      <td>5.838759</td>\n",
       "    </tr>\n",
       "    <tr>\n",
       "      <th>1</th>\n",
       "      <td>5.5277</td>\n",
       "      <td>9.13020</td>\n",
       "      <td>30.555</td>\n",
       "      <td>83.361</td>\n",
       "      <td>50.469</td>\n",
       "      <td>5.838652</td>\n",
       "    </tr>\n",
       "    <tr>\n",
       "      <th>2</th>\n",
       "      <td>8.5186</td>\n",
       "      <td>13.66200</td>\n",
       "      <td>72.567</td>\n",
       "      <td>186.650</td>\n",
       "      <td>116.381</td>\n",
       "      <td>5.839201</td>\n",
       "    </tr>\n",
       "    <tr>\n",
       "      <th>3</th>\n",
       "      <td>7.0032</td>\n",
       "      <td>11.85400</td>\n",
       "      <td>49.045</td>\n",
       "      <td>140.517</td>\n",
       "      <td>83.016</td>\n",
       "      <td>5.838923</td>\n",
       "    </tr>\n",
       "    <tr>\n",
       "      <th>4</th>\n",
       "      <td>5.8598</td>\n",
       "      <td>6.82330</td>\n",
       "      <td>34.337</td>\n",
       "      <td>46.557</td>\n",
       "      <td>39.983</td>\n",
       "      <td>5.838713</td>\n",
       "    </tr>\n",
       "    <tr>\n",
       "      <th>...</th>\n",
       "      <td>...</td>\n",
       "      <td>...</td>\n",
       "      <td>...</td>\n",
       "      <td>...</td>\n",
       "      <td>...</td>\n",
       "      <td>...</td>\n",
       "    </tr>\n",
       "    <tr>\n",
       "      <th>92</th>\n",
       "      <td>5.8707</td>\n",
       "      <td>7.20290</td>\n",
       "      <td>34.465</td>\n",
       "      <td>51.882</td>\n",
       "      <td>42.286</td>\n",
       "      <td>5.838715</td>\n",
       "    </tr>\n",
       "    <tr>\n",
       "      <th>93</th>\n",
       "      <td>5.3054</td>\n",
       "      <td>1.98690</td>\n",
       "      <td>28.147</td>\n",
       "      <td>3.948</td>\n",
       "      <td>10.541</td>\n",
       "      <td>5.838611</td>\n",
       "    </tr>\n",
       "    <tr>\n",
       "      <th>94</th>\n",
       "      <td>8.2934</td>\n",
       "      <td>0.14454</td>\n",
       "      <td>68.780</td>\n",
       "      <td>0.021</td>\n",
       "      <td>1.199</td>\n",
       "      <td>5.839160</td>\n",
       "    </tr>\n",
       "    <tr>\n",
       "      <th>95</th>\n",
       "      <td>13.3940</td>\n",
       "      <td>9.05510</td>\n",
       "      <td>179.399</td>\n",
       "      <td>81.995</td>\n",
       "      <td>121.284</td>\n",
       "      <td>5.840096</td>\n",
       "    </tr>\n",
       "    <tr>\n",
       "      <th>96</th>\n",
       "      <td>5.4369</td>\n",
       "      <td>0.61705</td>\n",
       "      <td>29.560</td>\n",
       "      <td>0.381</td>\n",
       "      <td>3.355</td>\n",
       "      <td>5.838635</td>\n",
       "    </tr>\n",
       "  </tbody>\n",
       "</table>\n",
       "<p>97 rows × 6 columns</p>\n",
       "</div>"
      ],
      "text/plain": [
       "          x         y      x^2      y^2       xy    y_pred\n",
       "0    6.1101  17.59200   37.333  309.478  107.489  5.838759\n",
       "1    5.5277   9.13020   30.555   83.361   50.469  5.838652\n",
       "2    8.5186  13.66200   72.567  186.650  116.381  5.839201\n",
       "3    7.0032  11.85400   49.045  140.517   83.016  5.838923\n",
       "4    5.8598   6.82330   34.337   46.557   39.983  5.838713\n",
       "..      ...       ...      ...      ...      ...       ...\n",
       "92   5.8707   7.20290   34.465   51.882   42.286  5.838715\n",
       "93   5.3054   1.98690   28.147    3.948   10.541  5.838611\n",
       "94   8.2934   0.14454   68.780    0.021    1.199  5.839160\n",
       "95  13.3940   9.05510  179.399   81.995  121.284  5.840096\n",
       "96   5.4369   0.61705   29.560    0.381    3.355  5.838635\n",
       "\n",
       "[97 rows x 6 columns]"
      ]
     },
     "execution_count": 29,
     "metadata": {},
     "output_type": "execute_result"
    }
   ],
   "source": [
    "data\n"
   ]
  },
  {
   "cell_type": "code",
   "execution_count": 30,
   "metadata": {},
   "outputs": [],
   "source": [
    "l_rate=0.001"
   ]
  },
  {
   "cell_type": "code",
   "execution_count": 31,
   "metadata": {},
   "outputs": [],
   "source": [
    "def grad_des(m, c):\n",
    "    pred = []\n",
    "    m_sum=0\n",
    "    c_sum=0\n",
    "    \n",
    "    for X in x:\n",
    "        pred.append(m * X + c)\n",
    "    \n",
    "    for i in range(len(data)):\n",
    "        m_sum += data.x[i]*(data.y[i]-data.y_pred[i])\n",
    "        c_sum += data.y[i]-data.y_pred[i]\n",
    "\n",
    "    m_grad = (-2 / n) * m_sum\n",
    "    c_grad = (-2 / n) * c_sum\n",
    "\n",
    "    m -= (l_rate * m_grad)\n",
    "    c -= (l_rate * c_grad)\n",
    "\n",
    "    return m, c, pred"
   ]
  },
  {
   "cell_type": "code",
   "execution_count": 32,
   "metadata": {},
   "outputs": [],
   "source": [
    "res = []\n",
    "\n",
    "for _ in range(10000):\n",
    "    m, c, data['y_pred'] = grad_des(m, c)"
   ]
  },
  {
   "cell_type": "code",
   "execution_count": 33,
   "metadata": {},
   "outputs": [],
   "source": [
    "y_minus_y_pred=y-data['y_pred']\n",
    "y_minus_y_pred_square = y_minus_y_pred**2\n",
    "data['y_minus_y_pred']=y_minus_y_pred\n",
    "data['y_minus_y_pred_square']=y_minus_y_pred_square"
   ]
  },
  {
   "cell_type": "code",
   "execution_count": 34,
   "metadata": {},
   "outputs": [
    {
     "data": {
      "text/html": [
       "<div>\n",
       "<style scoped>\n",
       "    .dataframe tbody tr th:only-of-type {\n",
       "        vertical-align: middle;\n",
       "    }\n",
       "\n",
       "    .dataframe tbody tr th {\n",
       "        vertical-align: top;\n",
       "    }\n",
       "\n",
       "    .dataframe thead th {\n",
       "        text-align: right;\n",
       "    }\n",
       "</style>\n",
       "<table border=\"1\" class=\"dataframe\">\n",
       "  <thead>\n",
       "    <tr style=\"text-align: right;\">\n",
       "      <th></th>\n",
       "      <th>x</th>\n",
       "      <th>y</th>\n",
       "      <th>x^2</th>\n",
       "      <th>y^2</th>\n",
       "      <th>xy</th>\n",
       "      <th>y_pred</th>\n",
       "      <th>y_minus_y_pred</th>\n",
       "      <th>y_minus_y_pred_square</th>\n",
       "    </tr>\n",
       "  </thead>\n",
       "  <tbody>\n",
       "    <tr>\n",
       "      <th>0</th>\n",
       "      <td>6.1101</td>\n",
       "      <td>17.59200</td>\n",
       "      <td>37.333</td>\n",
       "      <td>309.478</td>\n",
       "      <td>107.489</td>\n",
       "      <td>3.496008</td>\n",
       "      <td>14.095992</td>\n",
       "      <td>198.696985</td>\n",
       "    </tr>\n",
       "    <tr>\n",
       "      <th>1</th>\n",
       "      <td>5.5277</td>\n",
       "      <td>9.13020</td>\n",
       "      <td>30.555</td>\n",
       "      <td>83.361</td>\n",
       "      <td>50.469</td>\n",
       "      <td>2.816675</td>\n",
       "      <td>6.313525</td>\n",
       "      <td>39.860602</td>\n",
       "    </tr>\n",
       "    <tr>\n",
       "      <th>2</th>\n",
       "      <td>8.5186</td>\n",
       "      <td>13.66200</td>\n",
       "      <td>72.567</td>\n",
       "      <td>186.650</td>\n",
       "      <td>116.381</td>\n",
       "      <td>6.305374</td>\n",
       "      <td>7.356626</td>\n",
       "      <td>54.119943</td>\n",
       "    </tr>\n",
       "    <tr>\n",
       "      <th>3</th>\n",
       "      <td>7.0032</td>\n",
       "      <td>11.85400</td>\n",
       "      <td>49.045</td>\n",
       "      <td>140.517</td>\n",
       "      <td>83.016</td>\n",
       "      <td>4.537754</td>\n",
       "      <td>7.316246</td>\n",
       "      <td>53.527455</td>\n",
       "    </tr>\n",
       "    <tr>\n",
       "      <th>4</th>\n",
       "      <td>5.8598</td>\n",
       "      <td>6.82330</td>\n",
       "      <td>34.337</td>\n",
       "      <td>46.557</td>\n",
       "      <td>39.983</td>\n",
       "      <td>3.204049</td>\n",
       "      <td>3.619251</td>\n",
       "      <td>13.098980</td>\n",
       "    </tr>\n",
       "    <tr>\n",
       "      <th>...</th>\n",
       "      <td>...</td>\n",
       "      <td>...</td>\n",
       "      <td>...</td>\n",
       "      <td>...</td>\n",
       "      <td>...</td>\n",
       "      <td>...</td>\n",
       "      <td>...</td>\n",
       "      <td>...</td>\n",
       "    </tr>\n",
       "    <tr>\n",
       "      <th>92</th>\n",
       "      <td>5.8707</td>\n",
       "      <td>7.20290</td>\n",
       "      <td>34.465</td>\n",
       "      <td>51.882</td>\n",
       "      <td>42.286</td>\n",
       "      <td>3.216763</td>\n",
       "      <td>3.986137</td>\n",
       "      <td>15.889289</td>\n",
       "    </tr>\n",
       "    <tr>\n",
       "      <th>93</th>\n",
       "      <td>5.3054</td>\n",
       "      <td>1.98690</td>\n",
       "      <td>28.147</td>\n",
       "      <td>3.948</td>\n",
       "      <td>10.541</td>\n",
       "      <td>2.557376</td>\n",
       "      <td>-0.570476</td>\n",
       "      <td>0.325442</td>\n",
       "    </tr>\n",
       "    <tr>\n",
       "      <th>94</th>\n",
       "      <td>8.2934</td>\n",
       "      <td>0.14454</td>\n",
       "      <td>68.780</td>\n",
       "      <td>0.021</td>\n",
       "      <td>1.199</td>\n",
       "      <td>6.042692</td>\n",
       "      <td>-5.898152</td>\n",
       "      <td>34.788201</td>\n",
       "    </tr>\n",
       "    <tr>\n",
       "      <th>95</th>\n",
       "      <td>13.3940</td>\n",
       "      <td>9.05510</td>\n",
       "      <td>179.399</td>\n",
       "      <td>81.995</td>\n",
       "      <td>121.284</td>\n",
       "      <td>11.992226</td>\n",
       "      <td>-2.937126</td>\n",
       "      <td>8.626711</td>\n",
       "    </tr>\n",
       "    <tr>\n",
       "      <th>96</th>\n",
       "      <td>5.4369</td>\n",
       "      <td>0.61705</td>\n",
       "      <td>29.560</td>\n",
       "      <td>0.381</td>\n",
       "      <td>3.355</td>\n",
       "      <td>2.710762</td>\n",
       "      <td>-2.093712</td>\n",
       "      <td>4.383630</td>\n",
       "    </tr>\n",
       "  </tbody>\n",
       "</table>\n",
       "<p>97 rows × 8 columns</p>\n",
       "</div>"
      ],
      "text/plain": [
       "          x         y      x^2      y^2       xy     y_pred  y_minus_y_pred  \\\n",
       "0    6.1101  17.59200   37.333  309.478  107.489   3.496008       14.095992   \n",
       "1    5.5277   9.13020   30.555   83.361   50.469   2.816675        6.313525   \n",
       "2    8.5186  13.66200   72.567  186.650  116.381   6.305374        7.356626   \n",
       "3    7.0032  11.85400   49.045  140.517   83.016   4.537754        7.316246   \n",
       "4    5.8598   6.82330   34.337   46.557   39.983   3.204049        3.619251   \n",
       "..      ...       ...      ...      ...      ...        ...             ...   \n",
       "92   5.8707   7.20290   34.465   51.882   42.286   3.216763        3.986137   \n",
       "93   5.3054   1.98690   28.147    3.948   10.541   2.557376       -0.570476   \n",
       "94   8.2934   0.14454   68.780    0.021    1.199   6.042692       -5.898152   \n",
       "95  13.3940   9.05510  179.399   81.995  121.284  11.992226       -2.937126   \n",
       "96   5.4369   0.61705   29.560    0.381    3.355   2.710762       -2.093712   \n",
       "\n",
       "    y_minus_y_pred_square  \n",
       "0              198.696985  \n",
       "1               39.860602  \n",
       "2               54.119943  \n",
       "3               53.527455  \n",
       "4               13.098980  \n",
       "..                    ...  \n",
       "92              15.889289  \n",
       "93               0.325442  \n",
       "94              34.788201  \n",
       "95               8.626711  \n",
       "96               4.383630  \n",
       "\n",
       "[97 rows x 8 columns]"
      ]
     },
     "execution_count": 34,
     "metadata": {},
     "output_type": "execute_result"
    }
   ],
   "source": [
    "data"
   ]
  },
  {
   "cell_type": "code",
   "execution_count": 35,
   "metadata": {},
   "outputs": [],
   "source": [
    "sse = summation(data['y_minus_y_pred_square'])\n",
    "a=avg(data['y'])\n",
    "sst=summation((y-a)**2)\n",
    "ssr = summation((data['y_pred']-avg(data['y_pred']))**2)\n",
    "rsquare = 1-(sse/sst) print(_)\n"
   ]
  },
  {
   "cell_type": "code",
   "execution_count": 36,
   "metadata": {},
   "outputs": [
    {
     "data": {
      "text/plain": [
       "1956.096932657052"
      ]
     },
     "execution_count": 36,
     "metadata": {},
     "output_type": "execute_result"
    }
   ],
   "source": [
    "ssr"
   ]
  },
  {
   "cell_type": "code",
   "execution_count": 37,
   "metadata": {},
   "outputs": [
    {
     "data": {
      "text/plain": [
       "2914.8470516572247"
      ]
     },
     "execution_count": 37,
     "metadata": {},
     "output_type": "execute_result"
    }
   ],
   "source": [
    "sst"
   ]
  },
  {
   "cell_type": "code",
   "execution_count": 38,
   "metadata": {},
   "outputs": [
    {
     "data": {
      "text/plain": [
       "0.7016068937415629"
      ]
     },
     "execution_count": 38,
     "metadata": {},
     "output_type": "execute_result"
    }
   ],
   "source": [
    "rsquare"
   ]
  },
  {
   "cell_type": "code",
   "execution_count": 39,
   "metadata": {},
   "outputs": [
    {
     "data": {
      "text/plain": [
       "869.7702660122461"
      ]
     },
     "execution_count": 39,
     "metadata": {},
     "output_type": "execute_result"
    }
   ],
   "source": [
    "sse"
   ]
  },
  {
   "cell_type": "code",
   "execution_count": 40,
   "metadata": {},
   "outputs": [
    {
     "data": {
      "text/plain": [
       "[<matplotlib.lines.Line2D at 0x7fbcc8253fa0>]"
      ]
     },
     "execution_count": 40,
     "metadata": {},
     "output_type": "execute_result"
    },
    {
     "data": {
      "image/png": "[encoded data removed]",
      "text/plain": [
       "<Figure size 432x288 with 1 Axes>"
      ]
     },
     "metadata": {
      "needs_background": "light"
     },
     "output_type": "display_data"
    }
   ],
   "source": [
    "plt.scatter(x,y,alpha=0.7)\n",
    "plt.plot(x,data['y_pred'],color='red')"
   ]
  },
  {
   "cell_type": "code",
   "execution_count": null,
   "metadata": {},
   "outputs": [],
   "source": []
  }
 ],
 "metadata": {
  "kernelspec": {
   "display_name": "Python 3",
   "language": "python",
   "name": "python3"
  },
  "language_info": {
   "codemirror_mode": {
    "name": "ipython",
    "version": 3
   },
   "file_extension": ".py",
   "mimetype": "text/x-python",
   "name": "python",
   "nbconvert_exporter": "python",
   "pygments_lexer": "ipython3",
   "version": "3.8.5"
  }
 },
 "nbformat": 4,
 "nbformat_minor": 4
}
